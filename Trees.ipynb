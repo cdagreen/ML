{
 "cells": [
  {
   "cell_type": "code",
   "execution_count": 1,
   "metadata": {
    "collapsed": false,
    "jupyter": {
     "outputs_hidden": false
    }
   },
   "outputs": [],
   "source": [
    "import pandas as pd\n",
    "import numpy as np\n",
    "from matplotlib import pyplot as plt"
   ]
  },
  {
   "cell_type": "code",
   "execution_count": 17,
   "metadata": {
    "collapsed": false,
    "jupyter": {
     "outputs_hidden": false
    }
   },
   "outputs": [],
   "source": [
    "class Tree: \n",
    "    \n",
    "    def __init__(self, X, y, max_depth, min_leaf_size=5): \n",
    "        self.X = X\n",
    "        self.y = y \n",
    "        self.max_depth = max_depth\n",
    "        self.depth = 0\n",
    "        self.min_leaf_size = min_leaf_size\n",
    "        \n",
    "    def add_branch(self, ret=False):\n",
    "        X = self.X\n",
    "        y = self.y \n",
    "        store = []\n",
    "        for c in X.columns: \n",
    "            store.append(self.best_split(X, y, c))\n",
    "        store = pd.DataFrame(store, columns= ['var', 'ss', 'split', 'rule'])\n",
    "        [var, ss, split, rule] = store.sort_values('ss').iloc[0]\n",
    "        self.branch_l = Branch(X[X[var]<=split], y[X[var]<=split],\n",
    "                                 var, split, direction='left', \n",
    "                                      max_depth=self.max_depth-1)\n",
    "        self.branch_r = Branch(X[X[var]>split], y[X[var]>split],\n",
    "                                 var, split, direction='right', \n",
    "                                   max_depth=self.max_depth-1)\n",
    "        if ret: \n",
    "            return [self.branch_l, self.branch_r]\n",
    "        \n",
    "    def best_split(self, X, y, var): \n",
    "        x = X[var]\n",
    "        y = y[x.sort_values().index]\n",
    "        ss = []\n",
    "        \n",
    "        nl, sl = 0, 0 \n",
    "        nr = y.shape[0]\n",
    "        sr = y.sum()\n",
    "        sst = np.sum(y**2)\n",
    "        \n",
    "        ss_0 = sst - sr**2/nr\n",
    "        ss.append(ss_0)\n",
    "        \n",
    "        for yi in y[:-1]: \n",
    "            nl +=1\n",
    "            sl += yi\n",
    "            nr -=1 \n",
    "            sr -= yi\n",
    "            \n",
    "            ss_i =sst - sl**2/nl - sr**2/nr\n",
    "            ss.append(ss_i)\n",
    "        sl += y.iloc[-1]\n",
    "        ss_len = sst- sl**2/len(y)\n",
    "        \n",
    "        min_ss = np.min(ss)\n",
    "    \n",
    "        split = x.sort_values().iloc[np.argmin(ss)]\n",
    "        return [var, min_ss, split, var + \"<=\" + str(split)]\n",
    "    \n",
    "    def build_tree(self, level=None, return_=False): \n",
    "        if level is None: \n",
    "            level = self.max_depth\n",
    "        if level==0: \n",
    "            trees = [t.add_branch(ret=True) for t in [self]]\n",
    "            trees = [t[i] for t in trees for i in [0,1]]\n",
    "        else: \n",
    "            trees = [t.add_branch(ret=True) for t in self.build_tree(level-1) if len(t.y)>1]\n",
    "            trees = [t[i] for t in trees for i in [0,1]]\n",
    "        return trees\n",
    "    \n",
    "    def leaf(self, x, base=None, lvl=1): \n",
    "        if base is None: \n",
    "            base = self\n",
    "\n",
    "        var, split = base.branch_l.split_var, base.branch_l.split\n",
    "        if x[var]<= split:\n",
    "            branch = base.branch_l\n",
    "        else: \n",
    "            branch = base.branch_r\n",
    "        if lvl <self.max_depth: \n",
    "            return self.leaf(x=x, base=branch, lvl=lvl+1)\n",
    "        else: \n",
    "            return branch\n",
    "        \n",
    "    def predict(self, Xnew):\n",
    "        pred = [self.leaf(x).mean for i, x in Xnew.iterrows()]\n",
    "        return pd.Series(pred)\n",
    "\n",
    "class Branch(Tree): \n",
    "    def __init__(self, X, y, split_var, split, direction, max_depth): \n",
    "        Tree.__init__(self, X, y, max_depth)\n",
    "        self.split_var = split_var\n",
    "        self.split = split\n",
    "        self.direction = direction\n",
    "        self.mean = y.mean()"
   ]
  },
  {
   "cell_type": "code",
   "execution_count": 3,
   "metadata": {},
   "outputs": [],
   "source": [
    "# apply to Ames housing price data (https://www.kaggle.com/c/house-prices-advanced-regression-techniques/data)\n",
    "df = pd.read_csv('/Users/carlgreen/Documents/Data/Ames/train.csv')"
   ]
  },
  {
   "cell_type": "code",
   "execution_count": 4,
   "metadata": {
    "collapsed": false,
    "jupyter": {
     "outputs_hidden": false
    }
   },
   "outputs": [
    {
     "data": {
      "text/plain": [
       "Index(['Id', 'MSSubClass', 'LotFrontage', 'LotArea', 'OverallQual',\n",
       "       'OverallCond', 'YearBuilt', 'YearRemodAdd', 'MasVnrArea', 'BsmtFinSF1',\n",
       "       'BsmtFinSF2', 'BsmtUnfSF', 'TotalBsmtSF', '1stFlrSF', '2ndFlrSF',\n",
       "       'LowQualFinSF', 'GrLivArea', 'BsmtFullBath', 'BsmtHalfBath', 'FullBath',\n",
       "       'HalfBath', 'BedroomAbvGr', 'KitchenAbvGr', 'TotRmsAbvGrd',\n",
       "       'Fireplaces', 'GarageYrBlt', 'GarageCars', 'GarageArea', 'WoodDeckSF',\n",
       "       'OpenPorchSF', 'EnclosedPorch', '3SsnPorch', 'ScreenPorch', 'PoolArea',\n",
       "       'MiscVal', 'MoSold', 'YrSold', 'SalePrice'],\n",
       "      dtype='object')"
      ]
     },
     "execution_count": 4,
     "metadata": {},
     "output_type": "execute_result"
    }
   ],
   "source": [
    "df.select_dtypes(include=np.number).columns"
   ]
  },
  {
   "cell_type": "code",
   "execution_count": 5,
   "metadata": {
    "collapsed": false,
    "jupyter": {
     "outputs_hidden": false
    }
   },
   "outputs": [
    {
     "data": {
      "text/plain": [
       "LotArea      0\n",
       "GrLivArea    0\n",
       "YearBuilt    0\n",
       "dtype: int64"
      ]
     },
     "execution_count": 5,
     "metadata": {},
     "output_type": "execute_result"
    }
   ],
   "source": [
    "#choose three features\n",
    "features = ['LotArea', 'GrLivArea', 'YearBuilt']\n",
    "df[features].isnull().sum()"
   ]
  },
  {
   "cell_type": "code",
   "execution_count": 6,
   "metadata": {},
   "outputs": [],
   "source": [
    "#target variable\n",
    "target = 'SalePrice_log'\n",
    "df[target] = np.log(df['SalePrice'])"
   ]
  },
  {
   "cell_type": "code",
   "execution_count": 19,
   "metadata": {
    "collapsed": false,
    "jupyter": {
     "outputs_hidden": false
    }
   },
   "outputs": [],
   "source": [
    "#initialize tree object\n",
    "tree = Tree(X=df[features], y=df[target], max_depth=3)"
   ]
  },
  {
   "cell_type": "code",
   "execution_count": 20,
   "metadata": {
    "collapsed": false,
    "jupyter": {
     "outputs_hidden": false
    }
   },
   "outputs": [
    {
     "data": {
      "text/plain": [
       "[<__main__.Branch at 0x11dbc56a0>,\n",
       " <__main__.Branch at 0x11dbc5588>,\n",
       " <__main__.Branch at 0x11dbc5080>,\n",
       " <__main__.Branch at 0x11dbc5860>,\n",
       " <__main__.Branch at 0x11dbc5d68>,\n",
       " <__main__.Branch at 0x11dbc5a58>,\n",
       " <__main__.Branch at 0x11dbc55c0>,\n",
       " <__main__.Branch at 0x11de32048>,\n",
       " <__main__.Branch at 0x11de325c0>,\n",
       " <__main__.Branch at 0x11de324a8>,\n",
       " <__main__.Branch at 0x11de32898>,\n",
       " <__main__.Branch at 0x11de32978>,\n",
       " <__main__.Branch at 0x11de32c50>,\n",
       " <__main__.Branch at 0x11de329e8>,\n",
       " <__main__.Branch at 0x11de32f60>,\n",
       " <__main__.Branch at 0x11de0f048>]"
      ]
     },
     "execution_count": 20,
     "metadata": {},
     "output_type": "execute_result"
    }
   ],
   "source": [
    "# construct tree object\n",
    "tree.build_tree()"
   ]
  },
  {
   "cell_type": "code",
   "execution_count": 52,
   "metadata": {},
   "outputs": [
    {
     "name": "stdout",
     "output_type": "stream",
     "text": [
      "GrLivArea 1412\n"
     ]
    }
   ],
   "source": [
    "# get first splitting condition\n",
    "print(tree.branch_l.split_var, tree.branch_l.split)"
   ]
  },
  {
   "cell_type": "code",
   "execution_count": 53,
   "metadata": {},
   "outputs": [
    {
     "name": "stdout",
     "output_type": "stream",
     "text": [
      "YearBuilt 1952\n"
     ]
    }
   ],
   "source": [
    "# next condition if GrLivArea <=1412\n",
    "print(tree.branch_l.branch_l.split_var,tree.branch_l.branch_l.split)"
   ]
  },
  {
   "cell_type": "code",
   "execution_count": 23,
   "metadata": {
    "collapsed": false,
    "jupyter": {
     "outputs_hidden": false
    }
   },
   "outputs": [
    {
     "data": {
      "text/plain": [
       "0       12.301436\n",
       "1       11.784443\n",
       "2       12.301436\n",
       "3       11.953053\n",
       "4       12.651835\n",
       "          ...    \n",
       "1455    12.301436\n",
       "1456    12.216966\n",
       "1457    11.953053\n",
       "1458    11.588953\n",
       "1459    11.784443\n",
       "Length: 1460, dtype: float64"
      ]
     },
     "execution_count": 23,
     "metadata": {},
     "output_type": "execute_result"
    }
   ],
   "source": [
    "# use predict method to get fitted values\n",
    "y_pred = tree.predict(Xnew=df[features])\n",
    "y_pred"
   ]
  },
  {
   "cell_type": "markdown",
   "metadata": {},
   "source": [
    "Compare to results using DecisionTreeRegressor from sklearn"
   ]
  },
  {
   "cell_type": "code",
   "execution_count": 54,
   "metadata": {},
   "outputs": [
    {
     "data": {
      "text/plain": [
       "DecisionTreeRegressor(criterion='mse', max_depth=3, max_features=None,\n",
       "           max_leaf_nodes=None, min_impurity_decrease=0.0,\n",
       "           min_impurity_split=None, min_samples_leaf=1,\n",
       "           min_samples_split=2, min_weight_fraction_leaf=0.0,\n",
       "           presort=False, random_state=None, splitter='best')"
      ]
     },
     "execution_count": 54,
     "metadata": {},
     "output_type": "execute_result"
    }
   ],
   "source": [
    "from sklearn.tree import DecisionTreeRegressor\n",
    "tree_regressor = DecisionTreeRegressor(max_depth=3)\n",
    "tree_regressor.fit(df[features], df[target])"
   ]
  },
  {
   "cell_type": "code",
   "execution_count": 68,
   "metadata": {},
   "outputs": [],
   "source": [
    "feature_dict = {i:c for i,c in enumerate(features)}"
   ]
  },
  {
   "cell_type": "code",
   "execution_count": 73,
   "metadata": {},
   "outputs": [
    {
     "data": {
      "text/plain": [
       "array([ 1,  2,  1, -2, -2,  2, -2, -2,  2,  0, -2, -2,  1, -2, -2])"
      ]
     },
     "execution_count": 73,
     "metadata": {},
     "output_type": "execute_result"
    }
   ],
   "source": [
    "tree_regressor.tree_.feature"
   ]
  },
  {
   "cell_type": "code",
   "execution_count": 78,
   "metadata": {},
   "outputs": [
    {
     "data": {
      "text/plain": [
       "0     GrLivArea\n",
       "1     YearBuilt\n",
       "2     GrLivArea\n",
       "3           NaN\n",
       "4           NaN\n",
       "5     YearBuilt\n",
       "6           NaN\n",
       "7           NaN\n",
       "8     YearBuilt\n",
       "9       LotArea\n",
       "10          NaN\n",
       "11          NaN\n",
       "12    GrLivArea\n",
       "13          NaN\n",
       "14          NaN\n",
       "dtype: object"
      ]
     },
     "execution_count": 78,
     "metadata": {},
     "output_type": "execute_result"
    }
   ],
   "source": [
    "pd.Series(tree_regressor.tree_.feature).map(feature_dict)"
   ]
  },
  {
   "cell_type": "code",
   "execution_count": 60,
   "metadata": {},
   "outputs": [
    {
     "data": {
      "text/plain": [
       "array([ 1.4175e+03,  1.9525e+03,  8.0350e+02, -2.0000e+00, -2.0000e+00,\n",
       "        1.9855e+03, -2.0000e+00, -2.0000e+00,  1.9805e+03,  1.2164e+04,\n",
       "       -2.0000e+00, -2.0000e+00,  1.9650e+03, -2.0000e+00, -2.0000e+00])"
      ]
     },
     "execution_count": 60,
     "metadata": {},
     "output_type": "execute_result"
    }
   ],
   "source": [
    "tree_regressor.tree_.threshold"
   ]
  },
  {
   "cell_type": "code",
   "execution_count": 61,
   "metadata": {},
   "outputs": [
    {
     "data": {
      "text/plain": [
       "array([ 1,  2,  3, -1, -1,  6, -1, -1,  9, 10, -1, -1, 13, -1, -1])"
      ]
     },
     "execution_count": 61,
     "metadata": {},
     "output_type": "execute_result"
    }
   ],
   "source": [
    "tree_regressor.tree_.children_left"
   ]
  },
  {
   "cell_type": "code",
   "execution_count": 62,
   "metadata": {},
   "outputs": [
    {
     "data": {
      "text/plain": [
       "array([ 8,  5,  4, -1, -1,  7, -1, -1, 12, 11, -1, -1, 14, -1, -1])"
      ]
     },
     "execution_count": 62,
     "metadata": {},
     "output_type": "execute_result"
    }
   ],
   "source": [
    "tree_regressor.tree_.children_right"
   ]
  },
  {
   "cell_type": "markdown",
   "metadata": {},
   "source": [
    "The first split condition is *GrLivArea* <= 1,417.5. If true, the next condition is *YearBuilt* <= 1952.5. This is similar to the results above. "
   ]
  },
  {
   "cell_type": "code",
   "execution_count": null,
   "metadata": {},
   "outputs": [],
   "source": [
    "Next, compare fitted values"
   ]
  },
  {
   "cell_type": "code",
   "execution_count": 26,
   "metadata": {
    "collapsed": false,
    "jupyter": {
     "outputs_hidden": false
    }
   },
   "outputs": [
    {
     "data": {
      "text/plain": [
       "array([12.30435413, 11.78546401, 12.30435413, ..., 11.94490053,\n",
       "       11.59188871, 11.78546401])"
      ]
     },
     "execution_count": 26,
     "metadata": {},
     "output_type": "execute_result"
    }
   ],
   "source": [
    "y_pred_sk = tree_regressor.predict(df[features])\n",
    "y_pred_sk"
   ]
  },
  {
   "cell_type": "code",
   "execution_count": 79,
   "metadata": {},
   "outputs": [],
   "source": [
    "compare_pred = pd.DataFrame({'new_tree':y_pred, 'sklearn':y_pred_sk})"
   ]
  },
  {
   "cell_type": "code",
   "execution_count": 36,
   "metadata": {},
   "outputs": [
    {
     "data": {
      "image/png": "[encoded data removed]",
      "text/plain": [
       "<Figure size 432x288 with 1 Axes>"
      ]
     },
     "metadata": {
      "needs_background": "light"
     },
     "output_type": "display_data"
    }
   ],
   "source": [
    "plt.scatter(x=compare_pred['sklearn'], y=compare_pred['new_tree'])\n",
    "plt.show()"
   ]
  },
  {
   "cell_type": "code",
   "execution_count": 80,
   "metadata": {},
   "outputs": [],
   "source": [
    "diff = y_pred - y_pred_sk"
   ]
  },
  {
   "cell_type": "code",
   "execution_count": 81,
   "metadata": {},
   "outputs": [
    {
     "data": {
      "image/png": "[encoded data removed]",
      "text/plain": [
       "<Figure size 432x288 with 1 Axes>"
      ]
     },
     "metadata": {
      "needs_background": "light"
     },
     "output_type": "display_data"
    }
   ],
   "source": [
    "plt.hist(diff)\n",
    "plt.show()"
   ]
  },
  {
   "cell_type": "code",
   "execution_count": 82,
   "metadata": {},
   "outputs": [
    {
     "data": {
      "image/png": "[encoded data removed]",
      "text/plain": [
       "<Figure size 432x288 with 1 Axes>"
      ]
     },
     "metadata": {
      "needs_background": "light"
     },
     "output_type": "display_data"
    }
   ],
   "source": [
    "plt.hist(diff, range=(-0.1,0.1))\n",
    "plt.show()"
   ]
  },
  {
   "cell_type": "code",
   "execution_count": 41,
   "metadata": {},
   "outputs": [
    {
     "data": {
      "text/plain": [
       "0.007008066532321118"
      ]
     },
     "execution_count": 41,
     "metadata": {},
     "output_type": "execute_result"
    }
   ],
   "source": [
    "abs(diff).mean()"
   ]
  },
  {
   "cell_type": "code",
   "execution_count": 45,
   "metadata": {},
   "outputs": [
    {
     "data": {
      "text/plain": [
       "0.3994518682611646"
      ]
     },
     "execution_count": 45,
     "metadata": {},
     "output_type": "execute_result"
    }
   ],
   "source": [
    "df[target].std()"
   ]
  },
  {
   "cell_type": "markdown",
   "metadata": {},
   "source": [
    "In conclusion, the results are similar, but not identical to, those obtained from using *sklearn*'s **DecisionTreeRegressor**"
   ]
  }
 ],
 "metadata": {
  "kernelspec": {
   "display_name": "Python 3",
   "language": "python",
   "name": "python3"
  },
  "language_info": {
   "codemirror_mode": {
    "name": "ipython",
    "version": 3
   },
   "file_extension": ".py",
   "mimetype": "text/x-python",
   "name": "python",
   "nbconvert_exporter": "python",
   "pygments_lexer": "ipython3",
   "version": "3.6.10"
  },
  "toc": {
   "base_numbering": 1,
   "nav_menu": {},
   "number_sections": true,
   "sideBar": true,
   "skip_h1_title": false,
   "title_cell": "Table of Contents",
   "title_sidebar": "Contents",
   "toc_cell": false,
   "toc_position": {},
   "toc_section_display": true,
   "toc_window_display": false
  }
 },
 "nbformat": 4,
 "nbformat_minor": 4
}
