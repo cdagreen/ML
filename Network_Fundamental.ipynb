{
 "cells": [
  {
   "cell_type": "code",
   "execution_count": 6,
   "metadata": {},
   "outputs": [],
   "source": [
    "import numpy as np"
   ]
  },
  {
   "cell_type": "code",
   "execution_count": 21,
   "metadata": {},
   "outputs": [],
   "source": [
    "def relu(x): \n",
    "    return np.maximum(x, 0)"
   ]
  },
  {
   "cell_type": "code",
   "execution_count": 22,
   "metadata": {},
   "outputs": [],
   "source": [
    "def identity(x): \n",
    "    return x"
   ]
  },
  {
   "cell_type": "code",
   "execution_count": 23,
   "metadata": {},
   "outputs": [],
   "source": [
    "def sigmoid(x): \n",
    "    return (1/(1+np.exp(-x)))"
   ]
  },
  {
   "cell_type": "code",
   "execution_count": 52,
   "metadata": {},
   "outputs": [],
   "source": [
    "def softmax(h): \n",
    "    \"\"\"take as input an n x q matrix of unnormalized probabilities, \n",
    "    and return n x q matrix of softmax probabilities\"\"\"\n",
    "    hx = np.exp(h)\n",
    "    return hx / (hx.sum(axis=1, keepdims=True)+1e-10)"
   ]
  },
  {
   "cell_type": "code",
   "execution_count": 25,
   "metadata": {},
   "outputs": [],
   "source": [
    "def squared_error(y, yhat): \n",
    "    return (1/len(y))*np.sum((y-yhat)**2)"
   ]
  },
  {
   "cell_type": "code",
   "execution_count": 26,
   "metadata": {},
   "outputs": [],
   "source": [
    "def binary_cross_entropy(y, yhat): \n",
    "    return -(1/len(y))*np.sum(y*np.log(yhat)+(1-y)*np.log(1-yhat))"
   ]
  },
  {
   "cell_type": "code",
   "execution_count": 27,
   "metadata": {},
   "outputs": [],
   "source": [
    "def categorical_cross_entropy(y, yhat): \n",
    "    return -(1/len(y))*np.sum(np.log(yhat[range(len(yhat)),y]))"
   ]
  },
  {
   "cell_type": "code",
   "execution_count": 28,
   "metadata": {},
   "outputs": [],
   "source": [
    "def loss_gradient(loss, y, yhat): \n",
    "    # compute gradient of loss with respect to output of terminal layer\n",
    "    # these all have the same form -- consolidate?. exponential family\n",
    "    if loss == squared_error: \n",
    "        return -2/len(y)*(y-yhat)\n",
    "    if loss == binary_cross_entropy: \n",
    "        return -(1/len(y))*(y-yhat)\n",
    "    if loss == categorical_cross_entropy: \n",
    "        yind = np.zeros_like(yhat)\n",
    "        yind[range(len(yhat)),y] = 1\n",
    "        return -(1/len(y))*(yind-yhat)"
   ]
  },
  {
   "cell_type": "code",
   "execution_count": 62,
   "metadata": {
    "scrolled": true
   },
   "outputs": [],
   "source": [
    "class Layer: \n",
    "    def __init__(self, num_inputs, num_outputs, activation, dropout=None):\n",
    "        self.num_inputs = num_inputs\n",
    "        self.num_outputs = num_outputs\n",
    "        self.activation = activation\n",
    "        self.parent = None\n",
    "        self.is_terminal = True\n",
    "        self.dropout = dropout\n",
    "        \n",
    "    def init_params(self):\n",
    "        # initialize parameters\n",
    "        self.W = np.random.normal(scale=0.03, size=(self.num_inputs, self.num_outputs))\n",
    "        self.b = np.zeros(self.num_outputs)\n",
    "    \n",
    "    def forward(self, X, predict=False): \n",
    "        # forward propagation\n",
    "        x = self.get_input(X)  \n",
    "        self.h = np.dot(x, self.W) + self.b\n",
    "        self.a = self.activation(self.h)\n",
    "        if (self.dropout is not None) &  (predict!=True): \n",
    "            mask = np.random.binomial(1, self.dropout, size=(self.num_outputs,))\n",
    "            self.a = self.a * mask.T * self.dropout\n",
    "        self.output = self.a\n",
    "    \n",
    "    def activation_derivative(self): \n",
    "        # compute derivative of activation function\n",
    "        if self.activation == relu: \n",
    "            return (self.a>0).astype('int')\n",
    "        elif self.activation == identity: \n",
    "            return np.ones_like(self.a)\n",
    "        elif self.activation == sigmoid: \n",
    "            return self.a*(1-self.a)\n",
    "        elif self.activation == softmax:\n",
    "            return np.ones_like(self.a)\n",
    "            \n",
    "    def backward(self, loss, X, y): \n",
    "        # backward propagation\n",
    "            # if terminal node, then gradient with respect to output is just gradient of loss\n",
    "        if self.is_terminal:\n",
    "            child_grad_h = loss_gradient(loss, y, self.a)\n",
    "        else:\n",
    "            child_grad_h = self.child.grad_h\n",
    "        self.grad_w = np.dot(self.get_input(X).T, child_grad_h *self.activation_derivative())\n",
    "        self.grad_b = np.sum(child_grad_h *self.activation_derivative(), axis=0)\n",
    "        self.grad_h = np.dot(child_grad_h*self.activation_derivative(), self.W.T)\n",
    "        \n",
    "    def set_parent(self, parent): \n",
    "        self.parent = parent\n",
    "        self.is_terminal = True\n",
    "        \n",
    "    def set_child(self, child): \n",
    "        self.child = child\n",
    "        self.is_terminal = False\n",
    "        \n",
    "    def get_input(self, X): \n",
    "        if self.parent is None: \n",
    "            return X\n",
    "        else: \n",
    "            return self.parent.output"
   ]
  },
  {
   "cell_type": "code",
   "execution_count": 41,
   "metadata": {},
   "outputs": [],
   "source": [
    "class Net: \n",
    "    def __init__(self): \n",
    "        self.layers = []\n",
    "    \n",
    "    def add_layer(self, num_inputs, num_outputs, activation, dropout=None): \n",
    "        layer = Layer(num_inputs, num_outputs, activation, dropout)\n",
    "        if len(self.layers)>0: \n",
    "            layer.set_parent(self.terminal)\n",
    "            layer.parent.set_child(layer)\n",
    "            self.layers[-1].set_child(layer)\n",
    "        self.layers.append(layer)\n",
    "        self.terminal = layer\n",
    "        \n",
    "    def forward(self, X, predict=False):\n",
    "        for layer in self.layers: \n",
    "            layer.forward(X, predict)\n",
    "        if predict==True:\n",
    "            return self.terminal.output\n",
    "        else: \n",
    "            self.output = self.terminal.output\n",
    "            \n",
    "    def backward(self, loss, X, y): \n",
    "        for layer in self.layers[::-1]:\n",
    "            layer.backward(loss, X,y)\n",
    "            \n",
    "    def init_params(self): \n",
    "        for layer in self.layers: \n",
    "            layer.init_params()\n",
    "            \n",
    "    def get_params(self): \n",
    "        self.params = []\n",
    "        for layer in layers: \n",
    "            self.params += self.get_params()\n",
    "            \n",
    "    def get_grads(self): \n",
    "        self.grads = []\n",
    "        for layer in layers: \n",
    "            self.grads += self.get_grads()\n",
    "            \n",
    "    def set_params(self, params): \n",
    "        for i in range(len(layers)): \n",
    "            layers[i].set_params(params[i])\n",
    "\n",
    "    def train(self, train_data, train_labels, num_epochs, batch_size, lr, loss, eval_data):\n",
    "        idx = np.arange(len(train_data))\n",
    "        np.random.shuffle(idx)\n",
    "        J = len(train_data) // batch_size  #steps per epoch\n",
    "        self.train_loss = []\n",
    "        self.test_loss = []\n",
    "        self.test_acc = []\n",
    "        for i in range(num_epochs):\n",
    "            for j in range(J): \n",
    "                idxj = idx[(j*batch_size):((j+1)*batch_size)]\n",
    "                X = train_data[idxj]\n",
    "                y = train_labels[idxj]\n",
    "                self.forward(X)\n",
    "                self.backward(loss,X,y)\n",
    "                self.descend(lr)\n",
    "            self.forward(train_data)\n",
    "            yhat = self.output\n",
    "            l, acc = self.evaluate(*eval_data,loss=loss).values()\n",
    "            self.test_loss.append(l)\n",
    "            self.test_acc.append(acc)\n",
    "            self.train_loss.append(loss(train_labels, yhat))\n",
    "                  \n",
    "    def descend(self, lr): \n",
    "        for layer in self.layers: \n",
    "            layer.W -= lr*layer.grad_w\n",
    "            layer.b -= lr*layer.grad_b\n",
    "            \n",
    "    def evaluate(self, X, y, loss): \n",
    "        yprob = self.forward(X, predict=True)\n",
    "        loss_ = loss(y, yprob)\n",
    "        ymax = np.argmax(yprob, axis=1)\n",
    "        accuracy = np.mean((ymax==y).astype('int'))\n",
    "        return {'loss':loss_, 'accuracy':accuracy}"
   ]
  },
  {
   "cell_type": "code",
   "execution_count": 33,
   "metadata": {},
   "outputs": [],
   "source": [
    "net = Net()\n",
    "net.add_layer(num_inputs=20, num_outputs=32, activation=relu)\n",
    "net.add_layer(num_inputs=32, num_outputs=32, activation=relu)\n",
    "net.add_layer(num_inputs=32, num_outputs=1, activation=sigmoid)\n",
    "net.init_params()\n",
    "X = np.random.randn(100,20)\n",
    "y = np.random.binomial(1,0.5, size=(100,1))"
   ]
  },
  {
   "cell_type": "code",
   "execution_count": 136,
   "metadata": {},
   "outputs": [],
   "source": [
    "net.forward(X)"
   ]
  },
  {
   "cell_type": "code",
   "execution_count": null,
   "metadata": {},
   "outputs": [],
   "source": [
    "train(self, train_data, train_labels, num_epochs, batch_size, lr, loss):"
   ]
  },
  {
   "cell_type": "code",
   "execution_count": 82,
   "metadata": {},
   "outputs": [],
   "source": [
    "net.train(X,y, num_epochs=3, batch_size=25, lr=0.5, loss=binary_cross_entropy)"
   ]
  },
  {
   "cell_type": "code",
   "execution_count": 61,
   "metadata": {},
   "outputs": [],
   "source": [
    "# test on MNIST data\n",
    "from keras.datasets import mnist\n",
    "\n",
    "(train_images, train_labels), (test_images, test_labels) = mnist.load_data()"
   ]
  },
  {
   "cell_type": "code",
   "execution_count": 62,
   "metadata": {},
   "outputs": [
    {
     "data": {
      "text/plain": [
       "(10000,)"
      ]
     },
     "execution_count": 62,
     "metadata": {},
     "output_type": "execute_result"
    }
   ],
   "source": [
    "test_labels.shape"
   ]
  },
  {
   "cell_type": "code",
   "execution_count": 22,
   "metadata": {},
   "outputs": [
    {
     "data": {
      "text/plain": [
       "(60000, 28, 28)"
      ]
     },
     "execution_count": 22,
     "metadata": {},
     "output_type": "execute_result"
    }
   ],
   "source": [
    "train_images.shape"
   ]
  },
  {
   "cell_type": "code",
   "execution_count": 23,
   "metadata": {},
   "outputs": [],
   "source": [
    "from keras import models\n",
    "from keras import layers\n",
    "\n",
    "network = models.Sequential()\n",
    "network.add(layers.Dense(512, activation='relu', input_shape=(28 * 28,)))\n",
    "network.add(layers.Dense(10, activation='softmax'))"
   ]
  },
  {
   "cell_type": "code",
   "execution_count": 24,
   "metadata": {},
   "outputs": [],
   "source": [
    "network.compile(optimizer='rmsprop',\n",
    "                loss='categorical_crossentropy',\n",
    "                metrics=['accuracy'])"
   ]
  },
  {
   "cell_type": "code",
   "execution_count": 34,
   "metadata": {},
   "outputs": [],
   "source": [
    "train_images = train_images.reshape((60000, 28 * 28))\n",
    "train_images = train_images.astype('float32') / 255\n",
    "test_images = test_images.reshape((10000, 28 * 28))\n",
    "test_images = test_images.astype('float32') / 255"
   ]
  },
  {
   "cell_type": "code",
   "execution_count": 26,
   "metadata": {},
   "outputs": [
    {
     "data": {
      "text/plain": [
       "(10000, 784)"
      ]
     },
     "execution_count": 26,
     "metadata": {},
     "output_type": "execute_result"
    }
   ],
   "source": [
    "test_images.shape"
   ]
  },
  {
   "cell_type": "code",
   "execution_count": 96,
   "metadata": {},
   "outputs": [],
   "source": [
    "from keras.utils import to_categorical\n",
    "train_labels = to_categorical(train_labels)\n",
    "test_labels = to_categorical(test_labels)"
   ]
  },
  {
   "cell_type": "code",
   "execution_count": 48,
   "metadata": {},
   "outputs": [
    {
     "name": "stdout",
     "output_type": "stream",
     "text": [
      "Epoch 1/5\n",
      "60000/60000 [==============================] - 2s 31us/step - loss: 0.0292 - accuracy: 0.9915\n",
      "Epoch 2/5\n",
      "60000/60000 [==============================] - 2s 32us/step - loss: 0.0226 - accuracy: 0.9933\n",
      "Epoch 3/5\n",
      "60000/60000 [==============================] - 2s 31us/step - loss: 0.0171 - accuracy: 0.9951\n",
      "Epoch 4/5\n",
      "60000/60000 [==============================] - 2s 31us/step - loss: 0.0138 - accuracy: 0.9959\n",
      "Epoch 5/5\n",
      "60000/60000 [==============================] - 2s 31us/step - loss: 0.0104 - accuracy: 0.9969\n"
     ]
    }
   ],
   "source": [
    "hist = network.fit(train_images, train_labels, epochs=5, batch_size=128)"
   ]
  },
  {
   "cell_type": "code",
   "execution_count": 97,
   "metadata": {},
   "outputs": [
    {
     "name": "stdout",
     "output_type": "stream",
     "text": [
      "10000/10000 [==============================] - 0s 30us/step\n"
     ]
    },
    {
     "data": {
      "text/plain": [
       "[0.07554391357868226, 0.9805999994277954]"
      ]
     },
     "execution_count": 97,
     "metadata": {},
     "output_type": "execute_result"
    }
   ],
   "source": [
    "network.evaluate(test_images, test_labels)"
   ]
  },
  {
   "cell_type": "code",
   "execution_count": 52,
   "metadata": {},
   "outputs": [
    {
     "data": {
      "text/plain": [
       "dict_keys(['loss', 'accuracy'])"
      ]
     },
     "execution_count": 52,
     "metadata": {},
     "output_type": "execute_result"
    }
   ],
   "source": [
    "hist.history.keys()"
   ]
  },
  {
   "cell_type": "code",
   "execution_count": 53,
   "metadata": {},
   "outputs": [
    {
     "data": {
      "text/plain": [
       "[0.029248603525509436,\n",
       " 0.022612789740165076,\n",
       " 0.017091255979736646,\n",
       " 0.01382947520862023,\n",
       " 0.010397070344164967]"
      ]
     },
     "execution_count": 53,
     "metadata": {},
     "output_type": "execute_result"
    }
   ],
   "source": [
    "hist.history['loss']"
   ]
  },
  {
   "cell_type": "code",
   "execution_count": 54,
   "metadata": {},
   "outputs": [
    {
     "data": {
      "text/plain": [
       "[0.99146664, 0.99333334, 0.99505, 0.99585, 0.9969]"
      ]
     },
     "execution_count": 54,
     "metadata": {},
     "output_type": "execute_result"
    }
   ],
   "source": [
    "hist.history['accuracy']"
   ]
  },
  {
   "cell_type": "code",
   "execution_count": 63,
   "metadata": {},
   "outputs": [],
   "source": [
    "# test on MNIST data\n",
    "from keras.datasets import mnist\n",
    "\n",
    "(train_images, train_labels), (test_images, test_labels) = mnist.load_data()"
   ]
  },
  {
   "cell_type": "code",
   "execution_count": 64,
   "metadata": {},
   "outputs": [],
   "source": [
    "train_images = train_images.reshape((60000, 28 * 28))\n",
    "train_images = train_images.astype('float32') / 255\n",
    "test_images = test_images.reshape((10000, 28 * 28))\n",
    "test_images = test_images.astype('float32') / 255"
   ]
  },
  {
   "cell_type": "code",
   "execution_count": 65,
   "metadata": {},
   "outputs": [],
   "source": [
    "net = Net()\n",
    "net.add_layer(num_inputs = 28*28, num_outputs = 512, activation=relu, dropout=0.9)\n",
    "net.add_layer(num_inputs = 512, num_outputs = 10, activation=softmax)"
   ]
  },
  {
   "cell_type": "code",
   "execution_count": 72,
   "metadata": {},
   "outputs": [],
   "source": [
    "net.init_params()"
   ]
  },
  {
   "cell_type": "code",
   "execution_count": 75,
   "metadata": {
    "scrolled": false
   },
   "outputs": [],
   "source": [
    "net.train(train_images,train_labels, num_epochs=10, batch_size=128, lr=0.9, loss=categorical_cross_entropy, \n",
    "         eval_data=[test_images, test_labels])"
   ]
  },
  {
   "cell_type": "code",
   "execution_count": 68,
   "metadata": {},
   "outputs": [
    {
     "data": {
      "text/plain": [
       "[0.11375146970666508,\n",
       " 0.09017385104341524,\n",
       " 0.07731697978918539,\n",
       " 0.07454350236066237,\n",
       " 0.07090721367067954,\n",
       " 0.06898676989354276,\n",
       " 0.06654926582216308,\n",
       " 0.0664493844955413,\n",
       " 0.06984915171328947,\n",
       " 0.06603321729445721]"
      ]
     },
     "execution_count": 68,
     "metadata": {},
     "output_type": "execute_result"
    }
   ],
   "source": [
    "net.test_loss"
   ]
  },
  {
   "cell_type": "code",
   "execution_count": 143,
   "metadata": {},
   "outputs": [
    {
     "data": {
      "text/plain": [
       "[0.06935149911935265,\n",
       " 0.06752984286302323,\n",
       " 0.06646451590490071,\n",
       " 0.06582464976182537,\n",
       " 0.0658733916880659]"
      ]
     },
     "execution_count": 143,
     "metadata": {},
     "output_type": "execute_result"
    }
   ],
   "source": [
    "net.test_loss"
   ]
  },
  {
   "cell_type": "code",
   "execution_count": 77,
   "metadata": {},
   "outputs": [
    {
     "data": {
      "text/plain": [
       "[0.9829, 0.9828, 0.9838, 0.9831, 0.9839, 0.984, 0.9834, 0.984, 0.9841, 0.9838]"
      ]
     },
     "execution_count": 77,
     "metadata": {},
     "output_type": "execute_result"
    }
   ],
   "source": [
    "net.test_acc"
   ]
  },
  {
   "cell_type": "code",
   "execution_count": 148,
   "metadata": {},
   "outputs": [
    {
     "data": {
      "text/plain": [
       "[0.9826, 0.9822, 0.9835, 0.9832, 0.9829, 0.983, 0.9833, 0.9833, 0.9834, 0.9836]"
      ]
     },
     "execution_count": 148,
     "metadata": {},
     "output_type": "execute_result"
    }
   ],
   "source": [
    "net.test_acc"
   ]
  },
  {
   "cell_type": "code",
   "execution_count": 93,
   "metadata": {
    "scrolled": true
   },
   "outputs": [
    {
     "data": {
      "text/plain": [
       "[0.15436858797210787, 0.09109607427928047, 0.06460457099397682]"
      ]
     },
     "execution_count": 93,
     "metadata": {},
     "output_type": "execute_result"
    }
   ],
   "source": [
    "net.train_loss"
   ]
  }
 ],
 "metadata": {
  "kernelspec": {
   "display_name": "Python 3",
   "language": "python",
   "name": "python3"
  },
  "language_info": {
   "codemirror_mode": {
    "name": "ipython",
    "version": 3
   },
   "file_extension": ".py",
   "mimetype": "text/x-python",
   "name": "python",
   "nbconvert_exporter": "python",
   "pygments_lexer": "ipython3",
   "version": "3.6.10"
  }
 },
 "nbformat": 4,
 "nbformat_minor": 4
}
